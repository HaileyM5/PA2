{
 "cells": [
  {
   "cell_type": "markdown",
   "id": "2d5d40d1",
   "metadata": {},
   "source": [
    "# Programming Assingment 2"
   ]
  },
  {
   "cell_type": "markdown",
   "id": "cd2de7af",
   "metadata": {},
   "source": [
    "## Hailey Mueller, Version 1"
   ]
  },
  {
   "cell_type": "markdown",
   "id": "9fedfe12",
   "metadata": {},
   "source": [
    "### Computer Programming, 2023 Spring Semester"
   ]
  },
  {
   "cell_type": "code",
   "execution_count": 14,
   "id": "d233dbc1",
   "metadata": {},
   "outputs": [
    {
     "name": "stdout",
     "output_type": "stream",
     "text": [
      "Enter an integer number: 10\n"
     ]
    }
   ],
   "source": [
    "number1=int(input(\"Enter an integer number: \"))"
   ]
  },
  {
   "cell_type": "code",
   "execution_count": 7,
   "id": "8998966a",
   "metadata": {
    "scrolled": true
   },
   "outputs": [
    {
     "name": "stdout",
     "output_type": "stream",
     "text": [
      "Enter a floating point number: 3.5\n"
     ]
    }
   ],
   "source": [
    "number2=float(input(\"Enter a floating point number: \"))"
   ]
  },
  {
   "cell_type": "code",
   "execution_count": 8,
   "id": "f3de2e27",
   "metadata": {
    "scrolled": true
   },
   "outputs": [
    {
     "name": "stdout",
     "output_type": "stream",
     "text": [
      "the addition of number1 and number2 is:  13.5\n"
     ]
    }
   ],
   "source": [
    "print(\"the addition of number1 and number2 is: \", number1+number2)"
   ]
  },
  {
   "cell_type": "code",
   "execution_count": 9,
   "id": "0e1d4741",
   "metadata": {},
   "outputs": [
    {
     "name": "stdout",
     "output_type": "stream",
     "text": [
      "the difference of number1 and number2 is:  6.5\n"
     ]
    }
   ],
   "source": [
    "print(\"the difference of number1 and number2 is: \", number1-number2)"
   ]
  },
  {
   "cell_type": "code",
   "execution_count": 11,
   "id": "67c58978",
   "metadata": {},
   "outputs": [
    {
     "name": "stdout",
     "output_type": "stream",
     "text": [
      "the product of number1 and number2 is:  35.0\n"
     ]
    }
   ],
   "source": [
    "print(\"the product of number1 and number2 is: \", number1*number2)"
   ]
  },
  {
   "cell_type": "code",
   "execution_count": 12,
   "id": "a3edc9be",
   "metadata": {},
   "outputs": [
    {
     "name": "stdout",
     "output_type": "stream",
     "text": [
      "the quotient of number 1 and number2 is :  2.857142857142857\n"
     ]
    }
   ],
   "source": [
    "print(\"the quotient of number 1 and number2 is : \", number1/number2)"
   ]
  },
  {
   "cell_type": "code",
   "execution_count": 13,
   "id": "1ac03abd",
   "metadata": {},
   "outputs": [
    {
     "data": {
      "text/plain": [
       "float"
      ]
     },
     "execution_count": 13,
     "metadata": {},
     "output_type": "execute_result"
    }
   ],
   "source": [
    "type(number2)"
   ]
  }
 ],
 "metadata": {
  "kernelspec": {
   "display_name": "Python 3 (ipykernel)",
   "language": "python",
   "name": "python3"
  },
  "language_info": {
   "codemirror_mode": {
    "name": "ipython",
    "version": 3
   },
   "file_extension": ".py",
   "mimetype": "text/x-python",
   "name": "python",
   "nbconvert_exporter": "python",
   "pygments_lexer": "ipython3",
   "version": "3.9.13"
  }
 },
 "nbformat": 4,
 "nbformat_minor": 5
}
